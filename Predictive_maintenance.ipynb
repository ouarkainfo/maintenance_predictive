{
  "nbformat": 4,
  "nbformat_minor": 0,
  "metadata": {
    "colab": {
      "provenance": []
    },
    "kernelspec": {
      "name": "python3",
      "display_name": "Python 3"
    },
    "language_info": {
      "name": "python"
    },
    "accelerator": "GPU",
    "gpuClass": "standard"
  },
  "cells": [
    {
      "cell_type": "markdown",
      "source": [
        "# Load Google Drive"
      ],
      "metadata": {
        "id": "eLZIeMrMlcm1"
      }
    },
    {
      "cell_type": "code",
      "execution_count": 1,
      "metadata": {
        "colab": {
          "base_uri": "https://localhost:8080/"
        },
        "id": "1bFtAlFZ2al8",
        "outputId": "f179d88d-cfe8-4ef7-ad3b-0c83ff07670e"
      },
      "outputs": [
        {
          "output_type": "stream",
          "name": "stdout",
          "text": [
            "Mounted at /content/drive\n"
          ]
        }
      ],
      "source": [
        "from google.colab import drive\n",
        "drive.mount('/content/drive')"
      ]
    },
    {
      "cell_type": "markdown",
      "source": [
        "# Import required libraries "
      ],
      "metadata": {
        "id": "aDOywgWvlgxu"
      }
    },
    {
      "cell_type": "code",
      "source": [
        "import pandas as pd \n",
        "import matplotlib.pyplot as plt \n",
        "import numpy as np\n",
        "import pickle\n",
        "from sklearn.preprocessing import MinMaxScaler, StandardScaler\n",
        "from sklearn.pipeline import make_pipeline\n",
        "from sklearn.neighbors import KNeighborsClassifier\n",
        "from sklearn.ensemble import RandomForestClassifier\n",
        "from sklearn.svm import SVC\n",
        "from sklearn.metrics import accuracy_score\n"
      ],
      "metadata": {
        "id": "32J8Y2nS3EBr"
      },
      "execution_count": 10,
      "outputs": []
    },
    {
      "cell_type": "markdown",
      "source": [
        "# Read dataset from drive\n",
        "You should have the file ai4i2020 in a folder maintenance_ds"
      ],
      "metadata": {
        "id": "j1gMy07klmoH"
      }
    },
    {
      "cell_type": "code",
      "source": [
        "df = pd.read_csv('drive/MyDrive/maintenance_ds/ai4i2020.csv')\n",
        "\n",
        "df.head()"
      ],
      "metadata": {
        "colab": {
          "base_uri": "https://localhost:8080/",
          "height": 206
        },
        "id": "tQFk09jt3E6Z",
        "outputId": "96b76dd4-37bb-423a-ca14-00a4fd28c6ef"
      },
      "execution_count": 3,
      "outputs": [
        {
          "output_type": "execute_result",
          "data": {
            "text/plain": [
              "   UDI Product_ID Type  Air_temperature_K  Process_temperature_K  \\\n",
              "0    1     M14860    M              298.1                  308.6   \n",
              "1    2     L47181    L              298.2                  308.7   \n",
              "2    3     L47182    L              298.1                  308.5   \n",
              "3    4     L47183    L              298.2                  308.6   \n",
              "4    5     L47184    L              298.2                  308.7   \n",
              "\n",
              "   Rotational_speed_rpm  Torque_Nm_  Tool_wear_min  Machine_failure  TWF  HDF  \\\n",
              "0                  1551        42.8              0                0    0    0   \n",
              "1                  1408        46.3              3                0    0    0   \n",
              "2                  1498        49.4              5                0    0    0   \n",
              "3                  1433        39.5              7                0    0    0   \n",
              "4                  1408        40.0              9                0    0    0   \n",
              "\n",
              "   PWF  OSF  RNF  \n",
              "0    0    0    0  \n",
              "1    0    0    0  \n",
              "2    0    0    0  \n",
              "3    0    0    0  \n",
              "4    0    0    0  "
            ],
            "text/html": [
              "\n",
              "  <div id=\"df-7b9933cf-9773-457b-9e6f-e50ca4b15387\">\n",
              "    <div class=\"colab-df-container\">\n",
              "      <div>\n",
              "<style scoped>\n",
              "    .dataframe tbody tr th:only-of-type {\n",
              "        vertical-align: middle;\n",
              "    }\n",
              "\n",
              "    .dataframe tbody tr th {\n",
              "        vertical-align: top;\n",
              "    }\n",
              "\n",
              "    .dataframe thead th {\n",
              "        text-align: right;\n",
              "    }\n",
              "</style>\n",
              "<table border=\"1\" class=\"dataframe\">\n",
              "  <thead>\n",
              "    <tr style=\"text-align: right;\">\n",
              "      <th></th>\n",
              "      <th>UDI</th>\n",
              "      <th>Product_ID</th>\n",
              "      <th>Type</th>\n",
              "      <th>Air_temperature_K</th>\n",
              "      <th>Process_temperature_K</th>\n",
              "      <th>Rotational_speed_rpm</th>\n",
              "      <th>Torque_Nm_</th>\n",
              "      <th>Tool_wear_min</th>\n",
              "      <th>Machine_failure</th>\n",
              "      <th>TWF</th>\n",
              "      <th>HDF</th>\n",
              "      <th>PWF</th>\n",
              "      <th>OSF</th>\n",
              "      <th>RNF</th>\n",
              "    </tr>\n",
              "  </thead>\n",
              "  <tbody>\n",
              "    <tr>\n",
              "      <th>0</th>\n",
              "      <td>1</td>\n",
              "      <td>M14860</td>\n",
              "      <td>M</td>\n",
              "      <td>298.1</td>\n",
              "      <td>308.6</td>\n",
              "      <td>1551</td>\n",
              "      <td>42.8</td>\n",
              "      <td>0</td>\n",
              "      <td>0</td>\n",
              "      <td>0</td>\n",
              "      <td>0</td>\n",
              "      <td>0</td>\n",
              "      <td>0</td>\n",
              "      <td>0</td>\n",
              "    </tr>\n",
              "    <tr>\n",
              "      <th>1</th>\n",
              "      <td>2</td>\n",
              "      <td>L47181</td>\n",
              "      <td>L</td>\n",
              "      <td>298.2</td>\n",
              "      <td>308.7</td>\n",
              "      <td>1408</td>\n",
              "      <td>46.3</td>\n",
              "      <td>3</td>\n",
              "      <td>0</td>\n",
              "      <td>0</td>\n",
              "      <td>0</td>\n",
              "      <td>0</td>\n",
              "      <td>0</td>\n",
              "      <td>0</td>\n",
              "    </tr>\n",
              "    <tr>\n",
              "      <th>2</th>\n",
              "      <td>3</td>\n",
              "      <td>L47182</td>\n",
              "      <td>L</td>\n",
              "      <td>298.1</td>\n",
              "      <td>308.5</td>\n",
              "      <td>1498</td>\n",
              "      <td>49.4</td>\n",
              "      <td>5</td>\n",
              "      <td>0</td>\n",
              "      <td>0</td>\n",
              "      <td>0</td>\n",
              "      <td>0</td>\n",
              "      <td>0</td>\n",
              "      <td>0</td>\n",
              "    </tr>\n",
              "    <tr>\n",
              "      <th>3</th>\n",
              "      <td>4</td>\n",
              "      <td>L47183</td>\n",
              "      <td>L</td>\n",
              "      <td>298.2</td>\n",
              "      <td>308.6</td>\n",
              "      <td>1433</td>\n",
              "      <td>39.5</td>\n",
              "      <td>7</td>\n",
              "      <td>0</td>\n",
              "      <td>0</td>\n",
              "      <td>0</td>\n",
              "      <td>0</td>\n",
              "      <td>0</td>\n",
              "      <td>0</td>\n",
              "    </tr>\n",
              "    <tr>\n",
              "      <th>4</th>\n",
              "      <td>5</td>\n",
              "      <td>L47184</td>\n",
              "      <td>L</td>\n",
              "      <td>298.2</td>\n",
              "      <td>308.7</td>\n",
              "      <td>1408</td>\n",
              "      <td>40.0</td>\n",
              "      <td>9</td>\n",
              "      <td>0</td>\n",
              "      <td>0</td>\n",
              "      <td>0</td>\n",
              "      <td>0</td>\n",
              "      <td>0</td>\n",
              "      <td>0</td>\n",
              "    </tr>\n",
              "  </tbody>\n",
              "</table>\n",
              "</div>\n",
              "      <button class=\"colab-df-convert\" onclick=\"convertToInteractive('df-7b9933cf-9773-457b-9e6f-e50ca4b15387')\"\n",
              "              title=\"Convert this dataframe to an interactive table.\"\n",
              "              style=\"display:none;\">\n",
              "        \n",
              "  <svg xmlns=\"http://www.w3.org/2000/svg\" height=\"24px\"viewBox=\"0 0 24 24\"\n",
              "       width=\"24px\">\n",
              "    <path d=\"M0 0h24v24H0V0z\" fill=\"none\"/>\n",
              "    <path d=\"M18.56 5.44l.94 2.06.94-2.06 2.06-.94-2.06-.94-.94-2.06-.94 2.06-2.06.94zm-11 1L8.5 8.5l.94-2.06 2.06-.94-2.06-.94L8.5 2.5l-.94 2.06-2.06.94zm10 10l.94 2.06.94-2.06 2.06-.94-2.06-.94-.94-2.06-.94 2.06-2.06.94z\"/><path d=\"M17.41 7.96l-1.37-1.37c-.4-.4-.92-.59-1.43-.59-.52 0-1.04.2-1.43.59L10.3 9.45l-7.72 7.72c-.78.78-.78 2.05 0 2.83L4 21.41c.39.39.9.59 1.41.59.51 0 1.02-.2 1.41-.59l7.78-7.78 2.81-2.81c.8-.78.8-2.07 0-2.86zM5.41 20L4 18.59l7.72-7.72 1.47 1.35L5.41 20z\"/>\n",
              "  </svg>\n",
              "      </button>\n",
              "      \n",
              "  <style>\n",
              "    .colab-df-container {\n",
              "      display:flex;\n",
              "      flex-wrap:wrap;\n",
              "      gap: 12px;\n",
              "    }\n",
              "\n",
              "    .colab-df-convert {\n",
              "      background-color: #E8F0FE;\n",
              "      border: none;\n",
              "      border-radius: 50%;\n",
              "      cursor: pointer;\n",
              "      display: none;\n",
              "      fill: #1967D2;\n",
              "      height: 32px;\n",
              "      padding: 0 0 0 0;\n",
              "      width: 32px;\n",
              "    }\n",
              "\n",
              "    .colab-df-convert:hover {\n",
              "      background-color: #E2EBFA;\n",
              "      box-shadow: 0px 1px 2px rgba(60, 64, 67, 0.3), 0px 1px 3px 1px rgba(60, 64, 67, 0.15);\n",
              "      fill: #174EA6;\n",
              "    }\n",
              "\n",
              "    [theme=dark] .colab-df-convert {\n",
              "      background-color: #3B4455;\n",
              "      fill: #D2E3FC;\n",
              "    }\n",
              "\n",
              "    [theme=dark] .colab-df-convert:hover {\n",
              "      background-color: #434B5C;\n",
              "      box-shadow: 0px 1px 3px 1px rgba(0, 0, 0, 0.15);\n",
              "      filter: drop-shadow(0px 1px 2px rgba(0, 0, 0, 0.3));\n",
              "      fill: #FFFFFF;\n",
              "    }\n",
              "  </style>\n",
              "\n",
              "      <script>\n",
              "        const buttonEl =\n",
              "          document.querySelector('#df-7b9933cf-9773-457b-9e6f-e50ca4b15387 button.colab-df-convert');\n",
              "        buttonEl.style.display =\n",
              "          google.colab.kernel.accessAllowed ? 'block' : 'none';\n",
              "\n",
              "        async function convertToInteractive(key) {\n",
              "          const element = document.querySelector('#df-7b9933cf-9773-457b-9e6f-e50ca4b15387');\n",
              "          const dataTable =\n",
              "            await google.colab.kernel.invokeFunction('convertToInteractive',\n",
              "                                                     [key], {});\n",
              "          if (!dataTable) return;\n",
              "\n",
              "          const docLinkHtml = 'Like what you see? Visit the ' +\n",
              "            '<a target=\"_blank\" href=https://colab.research.google.com/notebooks/data_table.ipynb>data table notebook</a>'\n",
              "            + ' to learn more about interactive tables.';\n",
              "          element.innerHTML = '';\n",
              "          dataTable['output_type'] = 'display_data';\n",
              "          await google.colab.output.renderOutput(dataTable, element);\n",
              "          const docLink = document.createElement('div');\n",
              "          docLink.innerHTML = docLinkHtml;\n",
              "          element.appendChild(docLink);\n",
              "        }\n",
              "      </script>\n",
              "    </div>\n",
              "  </div>\n",
              "  "
            ]
          },
          "metadata": {},
          "execution_count": 3
        }
      ]
    },
    {
      "cell_type": "markdown",
      "source": [
        "# Describe data"
      ],
      "metadata": {
        "id": "sjUC9nnBl1UJ"
      }
    },
    {
      "cell_type": "code",
      "source": [
        "df.describe()"
      ],
      "metadata": {
        "colab": {
          "base_uri": "https://localhost:8080/",
          "height": 344
        },
        "id": "UrT-Qvqfle35",
        "outputId": "3e87f722-088e-4162-abf1-de4a7c9dbd65"
      },
      "execution_count": 4,
      "outputs": [
        {
          "output_type": "execute_result",
          "data": {
            "text/plain": [
              "               UDI  Air_temperature_K  Process_temperature_K  \\\n",
              "count  10000.00000       10000.000000           10000.000000   \n",
              "mean    5000.50000         300.004930             310.005560   \n",
              "std     2886.89568           2.000259               1.483734   \n",
              "min        1.00000         295.300000             305.700000   \n",
              "25%     2500.75000         298.300000             308.800000   \n",
              "50%     5000.50000         300.100000             310.100000   \n",
              "75%     7500.25000         301.500000             311.100000   \n",
              "max    10000.00000         304.500000             313.800000   \n",
              "\n",
              "       Rotational_speed_rpm    Torque_Nm_  Tool_wear_min  Machine_failure  \\\n",
              "count          10000.000000  10000.000000   10000.000000     10000.000000   \n",
              "mean            1538.776100     39.986910     107.951000         0.033900   \n",
              "std              179.284096      9.968934      63.654147         0.180981   \n",
              "min             1168.000000      3.800000       0.000000         0.000000   \n",
              "25%             1423.000000     33.200000      53.000000         0.000000   \n",
              "50%             1503.000000     40.100000     108.000000         0.000000   \n",
              "75%             1612.000000     46.800000     162.000000         0.000000   \n",
              "max             2886.000000     76.600000     253.000000         1.000000   \n",
              "\n",
              "                TWF           HDF           PWF           OSF          RNF  \n",
              "count  10000.000000  10000.000000  10000.000000  10000.000000  10000.00000  \n",
              "mean       0.004600      0.011500      0.009500      0.009800      0.00190  \n",
              "std        0.067671      0.106625      0.097009      0.098514      0.04355  \n",
              "min        0.000000      0.000000      0.000000      0.000000      0.00000  \n",
              "25%        0.000000      0.000000      0.000000      0.000000      0.00000  \n",
              "50%        0.000000      0.000000      0.000000      0.000000      0.00000  \n",
              "75%        0.000000      0.000000      0.000000      0.000000      0.00000  \n",
              "max        1.000000      1.000000      1.000000      1.000000      1.00000  "
            ],
            "text/html": [
              "\n",
              "  <div id=\"df-fffff54a-341b-4f47-812d-014eff322c18\">\n",
              "    <div class=\"colab-df-container\">\n",
              "      <div>\n",
              "<style scoped>\n",
              "    .dataframe tbody tr th:only-of-type {\n",
              "        vertical-align: middle;\n",
              "    }\n",
              "\n",
              "    .dataframe tbody tr th {\n",
              "        vertical-align: top;\n",
              "    }\n",
              "\n",
              "    .dataframe thead th {\n",
              "        text-align: right;\n",
              "    }\n",
              "</style>\n",
              "<table border=\"1\" class=\"dataframe\">\n",
              "  <thead>\n",
              "    <tr style=\"text-align: right;\">\n",
              "      <th></th>\n",
              "      <th>UDI</th>\n",
              "      <th>Air_temperature_K</th>\n",
              "      <th>Process_temperature_K</th>\n",
              "      <th>Rotational_speed_rpm</th>\n",
              "      <th>Torque_Nm_</th>\n",
              "      <th>Tool_wear_min</th>\n",
              "      <th>Machine_failure</th>\n",
              "      <th>TWF</th>\n",
              "      <th>HDF</th>\n",
              "      <th>PWF</th>\n",
              "      <th>OSF</th>\n",
              "      <th>RNF</th>\n",
              "    </tr>\n",
              "  </thead>\n",
              "  <tbody>\n",
              "    <tr>\n",
              "      <th>count</th>\n",
              "      <td>10000.00000</td>\n",
              "      <td>10000.000000</td>\n",
              "      <td>10000.000000</td>\n",
              "      <td>10000.000000</td>\n",
              "      <td>10000.000000</td>\n",
              "      <td>10000.000000</td>\n",
              "      <td>10000.000000</td>\n",
              "      <td>10000.000000</td>\n",
              "      <td>10000.000000</td>\n",
              "      <td>10000.000000</td>\n",
              "      <td>10000.000000</td>\n",
              "      <td>10000.00000</td>\n",
              "    </tr>\n",
              "    <tr>\n",
              "      <th>mean</th>\n",
              "      <td>5000.50000</td>\n",
              "      <td>300.004930</td>\n",
              "      <td>310.005560</td>\n",
              "      <td>1538.776100</td>\n",
              "      <td>39.986910</td>\n",
              "      <td>107.951000</td>\n",
              "      <td>0.033900</td>\n",
              "      <td>0.004600</td>\n",
              "      <td>0.011500</td>\n",
              "      <td>0.009500</td>\n",
              "      <td>0.009800</td>\n",
              "      <td>0.00190</td>\n",
              "    </tr>\n",
              "    <tr>\n",
              "      <th>std</th>\n",
              "      <td>2886.89568</td>\n",
              "      <td>2.000259</td>\n",
              "      <td>1.483734</td>\n",
              "      <td>179.284096</td>\n",
              "      <td>9.968934</td>\n",
              "      <td>63.654147</td>\n",
              "      <td>0.180981</td>\n",
              "      <td>0.067671</td>\n",
              "      <td>0.106625</td>\n",
              "      <td>0.097009</td>\n",
              "      <td>0.098514</td>\n",
              "      <td>0.04355</td>\n",
              "    </tr>\n",
              "    <tr>\n",
              "      <th>min</th>\n",
              "      <td>1.00000</td>\n",
              "      <td>295.300000</td>\n",
              "      <td>305.700000</td>\n",
              "      <td>1168.000000</td>\n",
              "      <td>3.800000</td>\n",
              "      <td>0.000000</td>\n",
              "      <td>0.000000</td>\n",
              "      <td>0.000000</td>\n",
              "      <td>0.000000</td>\n",
              "      <td>0.000000</td>\n",
              "      <td>0.000000</td>\n",
              "      <td>0.00000</td>\n",
              "    </tr>\n",
              "    <tr>\n",
              "      <th>25%</th>\n",
              "      <td>2500.75000</td>\n",
              "      <td>298.300000</td>\n",
              "      <td>308.800000</td>\n",
              "      <td>1423.000000</td>\n",
              "      <td>33.200000</td>\n",
              "      <td>53.000000</td>\n",
              "      <td>0.000000</td>\n",
              "      <td>0.000000</td>\n",
              "      <td>0.000000</td>\n",
              "      <td>0.000000</td>\n",
              "      <td>0.000000</td>\n",
              "      <td>0.00000</td>\n",
              "    </tr>\n",
              "    <tr>\n",
              "      <th>50%</th>\n",
              "      <td>5000.50000</td>\n",
              "      <td>300.100000</td>\n",
              "      <td>310.100000</td>\n",
              "      <td>1503.000000</td>\n",
              "      <td>40.100000</td>\n",
              "      <td>108.000000</td>\n",
              "      <td>0.000000</td>\n",
              "      <td>0.000000</td>\n",
              "      <td>0.000000</td>\n",
              "      <td>0.000000</td>\n",
              "      <td>0.000000</td>\n",
              "      <td>0.00000</td>\n",
              "    </tr>\n",
              "    <tr>\n",
              "      <th>75%</th>\n",
              "      <td>7500.25000</td>\n",
              "      <td>301.500000</td>\n",
              "      <td>311.100000</td>\n",
              "      <td>1612.000000</td>\n",
              "      <td>46.800000</td>\n",
              "      <td>162.000000</td>\n",
              "      <td>0.000000</td>\n",
              "      <td>0.000000</td>\n",
              "      <td>0.000000</td>\n",
              "      <td>0.000000</td>\n",
              "      <td>0.000000</td>\n",
              "      <td>0.00000</td>\n",
              "    </tr>\n",
              "    <tr>\n",
              "      <th>max</th>\n",
              "      <td>10000.00000</td>\n",
              "      <td>304.500000</td>\n",
              "      <td>313.800000</td>\n",
              "      <td>2886.000000</td>\n",
              "      <td>76.600000</td>\n",
              "      <td>253.000000</td>\n",
              "      <td>1.000000</td>\n",
              "      <td>1.000000</td>\n",
              "      <td>1.000000</td>\n",
              "      <td>1.000000</td>\n",
              "      <td>1.000000</td>\n",
              "      <td>1.00000</td>\n",
              "    </tr>\n",
              "  </tbody>\n",
              "</table>\n",
              "</div>\n",
              "      <button class=\"colab-df-convert\" onclick=\"convertToInteractive('df-fffff54a-341b-4f47-812d-014eff322c18')\"\n",
              "              title=\"Convert this dataframe to an interactive table.\"\n",
              "              style=\"display:none;\">\n",
              "        \n",
              "  <svg xmlns=\"http://www.w3.org/2000/svg\" height=\"24px\"viewBox=\"0 0 24 24\"\n",
              "       width=\"24px\">\n",
              "    <path d=\"M0 0h24v24H0V0z\" fill=\"none\"/>\n",
              "    <path d=\"M18.56 5.44l.94 2.06.94-2.06 2.06-.94-2.06-.94-.94-2.06-.94 2.06-2.06.94zm-11 1L8.5 8.5l.94-2.06 2.06-.94-2.06-.94L8.5 2.5l-.94 2.06-2.06.94zm10 10l.94 2.06.94-2.06 2.06-.94-2.06-.94-.94-2.06-.94 2.06-2.06.94z\"/><path d=\"M17.41 7.96l-1.37-1.37c-.4-.4-.92-.59-1.43-.59-.52 0-1.04.2-1.43.59L10.3 9.45l-7.72 7.72c-.78.78-.78 2.05 0 2.83L4 21.41c.39.39.9.59 1.41.59.51 0 1.02-.2 1.41-.59l7.78-7.78 2.81-2.81c.8-.78.8-2.07 0-2.86zM5.41 20L4 18.59l7.72-7.72 1.47 1.35L5.41 20z\"/>\n",
              "  </svg>\n",
              "      </button>\n",
              "      \n",
              "  <style>\n",
              "    .colab-df-container {\n",
              "      display:flex;\n",
              "      flex-wrap:wrap;\n",
              "      gap: 12px;\n",
              "    }\n",
              "\n",
              "    .colab-df-convert {\n",
              "      background-color: #E8F0FE;\n",
              "      border: none;\n",
              "      border-radius: 50%;\n",
              "      cursor: pointer;\n",
              "      display: none;\n",
              "      fill: #1967D2;\n",
              "      height: 32px;\n",
              "      padding: 0 0 0 0;\n",
              "      width: 32px;\n",
              "    }\n",
              "\n",
              "    .colab-df-convert:hover {\n",
              "      background-color: #E2EBFA;\n",
              "      box-shadow: 0px 1px 2px rgba(60, 64, 67, 0.3), 0px 1px 3px 1px rgba(60, 64, 67, 0.15);\n",
              "      fill: #174EA6;\n",
              "    }\n",
              "\n",
              "    [theme=dark] .colab-df-convert {\n",
              "      background-color: #3B4455;\n",
              "      fill: #D2E3FC;\n",
              "    }\n",
              "\n",
              "    [theme=dark] .colab-df-convert:hover {\n",
              "      background-color: #434B5C;\n",
              "      box-shadow: 0px 1px 3px 1px rgba(0, 0, 0, 0.15);\n",
              "      filter: drop-shadow(0px 1px 2px rgba(0, 0, 0, 0.3));\n",
              "      fill: #FFFFFF;\n",
              "    }\n",
              "  </style>\n",
              "\n",
              "      <script>\n",
              "        const buttonEl =\n",
              "          document.querySelector('#df-fffff54a-341b-4f47-812d-014eff322c18 button.colab-df-convert');\n",
              "        buttonEl.style.display =\n",
              "          google.colab.kernel.accessAllowed ? 'block' : 'none';\n",
              "\n",
              "        async function convertToInteractive(key) {\n",
              "          const element = document.querySelector('#df-fffff54a-341b-4f47-812d-014eff322c18');\n",
              "          const dataTable =\n",
              "            await google.colab.kernel.invokeFunction('convertToInteractive',\n",
              "                                                     [key], {});\n",
              "          if (!dataTable) return;\n",
              "\n",
              "          const docLinkHtml = 'Like what you see? Visit the ' +\n",
              "            '<a target=\"_blank\" href=https://colab.research.google.com/notebooks/data_table.ipynb>data table notebook</a>'\n",
              "            + ' to learn more about interactive tables.';\n",
              "          element.innerHTML = '';\n",
              "          dataTable['output_type'] = 'display_data';\n",
              "          await google.colab.output.renderOutput(dataTable, element);\n",
              "          const docLink = document.createElement('div');\n",
              "          docLink.innerHTML = docLinkHtml;\n",
              "          element.appendChild(docLink);\n",
              "        }\n",
              "      </script>\n",
              "    </div>\n",
              "  </div>\n",
              "  "
            ]
          },
          "metadata": {},
          "execution_count": 4
        }
      ]
    },
    {
      "cell_type": "markdown",
      "source": [
        "# Information about dataset"
      ],
      "metadata": {
        "id": "mDG91LLUl6KT"
      }
    },
    {
      "cell_type": "code",
      "source": [
        "df.info()"
      ],
      "metadata": {
        "colab": {
          "base_uri": "https://localhost:8080/"
        },
        "id": "xPe4FXgkLaON",
        "outputId": "e6943cad-5f96-40cf-d109-48094d13ff03"
      },
      "execution_count": 5,
      "outputs": [
        {
          "output_type": "stream",
          "name": "stdout",
          "text": [
            "<class 'pandas.core.frame.DataFrame'>\n",
            "RangeIndex: 10000 entries, 0 to 9999\n",
            "Data columns (total 14 columns):\n",
            " #   Column                 Non-Null Count  Dtype  \n",
            "---  ------                 --------------  -----  \n",
            " 0   UDI                    10000 non-null  int64  \n",
            " 1   Product_ID             10000 non-null  object \n",
            " 2   Type                   10000 non-null  object \n",
            " 3   Air_temperature_K      10000 non-null  float64\n",
            " 4   Process_temperature_K  10000 non-null  float64\n",
            " 5   Rotational_speed_rpm   10000 non-null  int64  \n",
            " 6   Torque_Nm_             10000 non-null  float64\n",
            " 7   Tool_wear_min          10000 non-null  int64  \n",
            " 8   Machine_failure        10000 non-null  int64  \n",
            " 9   TWF                    10000 non-null  int64  \n",
            " 10  HDF                    10000 non-null  int64  \n",
            " 11  PWF                    10000 non-null  int64  \n",
            " 12  OSF                    10000 non-null  int64  \n",
            " 13  RNF                    10000 non-null  int64  \n",
            "dtypes: float64(3), int64(9), object(2)\n",
            "memory usage: 1.1+ MB\n"
          ]
        }
      ]
    },
    {
      "cell_type": "markdown",
      "source": [
        "# Remove some columns from dataset, and create X and y dataframes"
      ],
      "metadata": {
        "id": "FXlWYVgSl8i3"
      }
    },
    {
      "cell_type": "code",
      "source": [
        "X = df.drop(['UDI', 'Product_ID', 'Type', 'Machine_failure', 'TWF', 'HDF', 'PWF', 'OSF', 'RNF'], axis=1)\n",
        "y = df['Machine_failure']\n",
        "X.shape, y.shape"
      ],
      "metadata": {
        "colab": {
          "base_uri": "https://localhost:8080/"
        },
        "id": "r-wcRbCd3mEy",
        "outputId": "f7ea5a58-6615-4642-fadd-dfd9910d4f8b"
      },
      "execution_count": 6,
      "outputs": [
        {
          "output_type": "execute_result",
          "data": {
            "text/plain": [
              "((10000, 5), (10000,))"
            ]
          },
          "metadata": {},
          "execution_count": 6
        }
      ]
    },
    {
      "cell_type": "markdown",
      "source": [
        "# Split dataset into: train, test and validation "
      ],
      "metadata": {
        "id": "t-p76pVxmJzi"
      }
    },
    {
      "cell_type": "code",
      "source": [
        "from sklearn.model_selection import train_test_split\n",
        "X_train, X_test, y_train,y_test = train_test_split(X, y, test_size=0.20, random_state=42)\n",
        "\n",
        "X_train, X_val, y_train, y_val = train_test_split(X_train, y_train, test_size=0.2, random_state=42)\n",
        "\n",
        "\n",
        "X_train.shape, X_test.shape, y_train.shape, X_val.shape, y_val.shape"
      ],
      "metadata": {
        "colab": {
          "base_uri": "https://localhost:8080/"
        },
        "id": "ARB6BoS032_p",
        "outputId": "577a991f-3a5b-4256-eda6-924e0e29a26f"
      },
      "execution_count": 7,
      "outputs": [
        {
          "output_type": "execute_result",
          "data": {
            "text/plain": [
              "((6400, 5), (2000, 5), (6400,), (1600, 5), (1600,))"
            ]
          },
          "metadata": {},
          "execution_count": 7
        }
      ]
    },
    {
      "cell_type": "markdown",
      "source": [
        "# Train KNeighborsClassifier \n",
        "accuracy is: 97.65% on test data\n",
        "and        : 98.06% on validation data"
      ],
      "metadata": {
        "id": "nAD-tvxemSXg"
      }
    },
    {
      "cell_type": "code",
      "source": [
        "knn_model = make_pipeline(StandardScaler(), KNeighborsClassifier())\n",
        "knn_model.fit(X_train, y_train)\n",
        "print(knn_model.score(X_test, y_test))\n",
        "y_val_pred = knn_model.predict(X_val)\n",
        "print(accuracy_score(y_val, y_val_pred))"
      ],
      "metadata": {
        "colab": {
          "base_uri": "https://localhost:8080/"
        },
        "id": "1WwAkRAXFHhO",
        "outputId": "5f2847bd-bd11-4fdd-ba16-202d5a252b25"
      },
      "execution_count": 8,
      "outputs": [
        {
          "output_type": "stream",
          "name": "stdout",
          "text": [
            "0.9765\n",
            "0.980625\n"
          ]
        }
      ]
    },
    {
      "cell_type": "markdown",
      "source": [
        "# Train RandomForestClassifier \n",
        "accuracy is: 98.1% on test data\n",
        "and        : 98.43% on validation data"
      ],
      "metadata": {
        "id": "hgqCOdzmmqoT"
      }
    },
    {
      "cell_type": "code",
      "source": [
        "rdf_model =  make_pipeline(StandardScaler(), RandomForestClassifier())\n",
        "rdf_model.fit(X_train, y_train)\n",
        "y_pred = rdf_model.predict(X_test)\n",
        "\n",
        "# save the model\n",
        "filename = 'rdf_model.sav'\n",
        "pickle.dump(rdf_model, open(filename, 'wb'))\n",
        "\n",
        "y_val_pred = rdf_model.predict(X_val)\n",
        "accuracy_score(y_pred, y_test), accuracy_score(y_val_pred, y_val)\n"
      ],
      "metadata": {
        "colab": {
          "base_uri": "https://localhost:8080/"
        },
        "id": "TE_Bcyr5K366",
        "outputId": "02bec264-c158-4e26-9d1b-60a2089bdbb3"
      },
      "execution_count": 11,
      "outputs": [
        {
          "output_type": "execute_result",
          "data": {
            "text/plain": [
              "(0.9815, 0.985)"
            ]
          },
          "metadata": {},
          "execution_count": 11
        }
      ]
    },
    {
      "cell_type": "markdown",
      "source": [
        "\n",
        "# Train SVM Classifier \n",
        "accuracy is: 97.6% on test data\n",
        "and        : 97.8% on validation data"
      ],
      "metadata": {
        "id": "maltxwMBnFcr"
      }
    },
    {
      "cell_type": "code",
      "source": [
        "cvc_model =  make_pipeline(StandardScaler(), SVC())\n",
        "cvc_model.fit(X_train, y_train)\n",
        "y_pred = cvc_model.predict(X_test)\n",
        "\n",
        "y_val_pred = cvc_model.predict(X_val)\n",
        "accuracy_score(y_pred, y_test), accuracy_score(y_val_pred, y_val)"
      ],
      "metadata": {
        "colab": {
          "base_uri": "https://localhost:8080/"
        },
        "id": "9Zwo9voYpOLE",
        "outputId": "1a5496ca-7bb1-4b32-c026-eb11cfb80750"
      },
      "execution_count": 12,
      "outputs": [
        {
          "output_type": "execute_result",
          "data": {
            "text/plain": [
              "(0.9765, 0.978125)"
            ]
          },
          "metadata": {},
          "execution_count": 12
        }
      ]
    },
    {
      "cell_type": "markdown",
      "source": [
        "# Train a deep learning model"
      ],
      "metadata": {
        "id": "1Ie6KaodnUeN"
      }
    },
    {
      "cell_type": "code",
      "source": [
        "scaler=StandardScaler()\n",
        "scaler.fit(X_train)\n",
        "\n",
        "X_train_scaled = scaler.transform(X_train)\n",
        "X_test_scaled = scaler.transform(X_test)"
      ],
      "metadata": {
        "id": "xU90mbuPn36S"
      },
      "execution_count": 14,
      "outputs": []
    },
    {
      "cell_type": "code",
      "source": [
        "import tensorflow as tf\n",
        "\n",
        "# Initialize the model\n",
        "model = tf.keras.Sequential()\n",
        "\n",
        "# Add layers to the model\n",
        "model.add(tf.keras.layers.Dense(10, activation='relu', input_shape=(5,)))\n",
        "model.add(tf.keras.layers.Dense(10, activation='relu'))\n",
        "model.add(tf.keras.layers.Dense(1, activation='sigmoid'))\n",
        "\n",
        "# Compile the model\n",
        "model.compile(loss='binary_crossentropy', optimizer='adam', metrics=['accuracy'])\n",
        "\n",
        "# Fit the model\n",
        "history = model.fit(X_train_scaled, y_train, epochs=150, batch_size=32)\n",
        "\n",
        "# Evaluate the model\n",
        "loss, accuracy = model.evaluate(X_test, y_test)\n",
        "loss_v, accuracy_v = model.evaluate(X_val, y_val)\n",
        "print(\"Accuracy:\", accuracy, \"Accuracy Val:\", accuracy_v)"
      ],
      "metadata": {
        "colab": {
          "base_uri": "https://localhost:8080/"
        },
        "id": "rKSFOgfIdW2w",
        "outputId": "c80a222a-17cc-4e74-a5b2-5497af75dd4c"
      },
      "execution_count": 16,
      "outputs": [
        {
          "output_type": "stream",
          "name": "stdout",
          "text": [
            "Epoch 1/150\n",
            "200/200 [==============================] - 3s 2ms/step - loss: 0.3330 - accuracy: 0.9627\n",
            "Epoch 2/150\n",
            "200/200 [==============================] - 0s 2ms/step - loss: 0.1765 - accuracy: 0.9638\n",
            "Epoch 3/150\n",
            "200/200 [==============================] - 0s 2ms/step - loss: 0.1511 - accuracy: 0.9638\n",
            "Epoch 4/150\n",
            "200/200 [==============================] - 0s 2ms/step - loss: 0.1346 - accuracy: 0.9638\n",
            "Epoch 5/150\n",
            "200/200 [==============================] - 0s 2ms/step - loss: 0.1219 - accuracy: 0.9638\n",
            "Epoch 6/150\n",
            "200/200 [==============================] - 0s 2ms/step - loss: 0.1135 - accuracy: 0.9638\n",
            "Epoch 7/150\n",
            "200/200 [==============================] - 0s 2ms/step - loss: 0.1078 - accuracy: 0.9638\n",
            "Epoch 8/150\n",
            "200/200 [==============================] - 0s 2ms/step - loss: 0.1038 - accuracy: 0.9650\n",
            "Epoch 9/150\n",
            "200/200 [==============================] - 0s 2ms/step - loss: 0.1014 - accuracy: 0.9673\n",
            "Epoch 10/150\n",
            "200/200 [==============================] - 0s 2ms/step - loss: 0.0991 - accuracy: 0.9673\n",
            "Epoch 11/150\n",
            "200/200 [==============================] - 0s 2ms/step - loss: 0.0975 - accuracy: 0.9672\n",
            "Epoch 12/150\n",
            "200/200 [==============================] - 0s 2ms/step - loss: 0.0964 - accuracy: 0.9675\n",
            "Epoch 13/150\n",
            "200/200 [==============================] - 0s 2ms/step - loss: 0.0954 - accuracy: 0.9677\n",
            "Epoch 14/150\n",
            "200/200 [==============================] - 0s 2ms/step - loss: 0.0943 - accuracy: 0.9684\n",
            "Epoch 15/150\n",
            "200/200 [==============================] - 0s 2ms/step - loss: 0.0935 - accuracy: 0.9681\n",
            "Epoch 16/150\n",
            "200/200 [==============================] - 0s 2ms/step - loss: 0.0923 - accuracy: 0.9686\n",
            "Epoch 17/150\n",
            "200/200 [==============================] - 0s 2ms/step - loss: 0.0902 - accuracy: 0.9689\n",
            "Epoch 18/150\n",
            "200/200 [==============================] - 0s 2ms/step - loss: 0.0883 - accuracy: 0.9692\n",
            "Epoch 19/150\n",
            "200/200 [==============================] - 0s 2ms/step - loss: 0.0861 - accuracy: 0.9681\n",
            "Epoch 20/150\n",
            "200/200 [==============================] - 0s 2ms/step - loss: 0.0846 - accuracy: 0.9697\n",
            "Epoch 21/150\n",
            "200/200 [==============================] - 0s 2ms/step - loss: 0.0831 - accuracy: 0.9702\n",
            "Epoch 22/150\n",
            "200/200 [==============================] - 0s 2ms/step - loss: 0.0818 - accuracy: 0.9709\n",
            "Epoch 23/150\n",
            "200/200 [==============================] - 0s 2ms/step - loss: 0.0804 - accuracy: 0.9725\n",
            "Epoch 24/150\n",
            "200/200 [==============================] - 0s 2ms/step - loss: 0.0794 - accuracy: 0.9714\n",
            "Epoch 25/150\n",
            "200/200 [==============================] - 0s 2ms/step - loss: 0.0787 - accuracy: 0.9730\n",
            "Epoch 26/150\n",
            "200/200 [==============================] - 0s 2ms/step - loss: 0.0775 - accuracy: 0.9714\n",
            "Epoch 27/150\n",
            "200/200 [==============================] - 0s 2ms/step - loss: 0.0778 - accuracy: 0.9731\n",
            "Epoch 28/150\n",
            "200/200 [==============================] - 0s 2ms/step - loss: 0.0766 - accuracy: 0.9728\n",
            "Epoch 29/150\n",
            "200/200 [==============================] - 0s 2ms/step - loss: 0.0758 - accuracy: 0.9733\n",
            "Epoch 30/150\n",
            "200/200 [==============================] - 0s 2ms/step - loss: 0.0749 - accuracy: 0.9725\n",
            "Epoch 31/150\n",
            "200/200 [==============================] - 0s 2ms/step - loss: 0.0754 - accuracy: 0.9741\n",
            "Epoch 32/150\n",
            "200/200 [==============================] - 0s 2ms/step - loss: 0.0753 - accuracy: 0.9731\n",
            "Epoch 33/150\n",
            "200/200 [==============================] - 0s 2ms/step - loss: 0.0744 - accuracy: 0.9739\n",
            "Epoch 34/150\n",
            "200/200 [==============================] - 0s 2ms/step - loss: 0.0751 - accuracy: 0.9727\n",
            "Epoch 35/150\n",
            "200/200 [==============================] - 0s 2ms/step - loss: 0.0743 - accuracy: 0.9741\n",
            "Epoch 36/150\n",
            "200/200 [==============================] - 0s 2ms/step - loss: 0.0741 - accuracy: 0.9733\n",
            "Epoch 37/150\n",
            "200/200 [==============================] - 0s 2ms/step - loss: 0.0737 - accuracy: 0.9736\n",
            "Epoch 38/150\n",
            "200/200 [==============================] - 0s 2ms/step - loss: 0.0736 - accuracy: 0.9747\n",
            "Epoch 39/150\n",
            "200/200 [==============================] - 0s 2ms/step - loss: 0.0734 - accuracy: 0.9741\n",
            "Epoch 40/150\n",
            "200/200 [==============================] - 0s 2ms/step - loss: 0.0736 - accuracy: 0.9739\n",
            "Epoch 41/150\n",
            "200/200 [==============================] - 0s 2ms/step - loss: 0.0731 - accuracy: 0.9752\n",
            "Epoch 42/150\n",
            "200/200 [==============================] - 0s 2ms/step - loss: 0.0733 - accuracy: 0.9744\n",
            "Epoch 43/150\n",
            "200/200 [==============================] - 0s 2ms/step - loss: 0.0731 - accuracy: 0.9734\n",
            "Epoch 44/150\n",
            "200/200 [==============================] - 0s 2ms/step - loss: 0.0732 - accuracy: 0.9741\n",
            "Epoch 45/150\n",
            "200/200 [==============================] - 0s 2ms/step - loss: 0.0727 - accuracy: 0.9744\n",
            "Epoch 46/150\n",
            "200/200 [==============================] - 0s 2ms/step - loss: 0.0728 - accuracy: 0.9747\n",
            "Epoch 47/150\n",
            "200/200 [==============================] - 0s 2ms/step - loss: 0.0737 - accuracy: 0.9730\n",
            "Epoch 48/150\n",
            "200/200 [==============================] - 0s 2ms/step - loss: 0.0729 - accuracy: 0.9752\n",
            "Epoch 49/150\n",
            "200/200 [==============================] - 0s 2ms/step - loss: 0.0723 - accuracy: 0.9748\n",
            "Epoch 50/150\n",
            "200/200 [==============================] - 0s 2ms/step - loss: 0.0725 - accuracy: 0.9745\n",
            "Epoch 51/150\n",
            "200/200 [==============================] - 0s 2ms/step - loss: 0.0720 - accuracy: 0.9737\n",
            "Epoch 52/150\n",
            "200/200 [==============================] - 0s 2ms/step - loss: 0.0720 - accuracy: 0.9747\n",
            "Epoch 53/150\n",
            "200/200 [==============================] - 0s 2ms/step - loss: 0.0720 - accuracy: 0.9742\n",
            "Epoch 54/150\n",
            "200/200 [==============================] - 0s 2ms/step - loss: 0.0721 - accuracy: 0.9753\n",
            "Epoch 55/150\n",
            "200/200 [==============================] - 0s 2ms/step - loss: 0.0721 - accuracy: 0.9742\n",
            "Epoch 56/150\n",
            "200/200 [==============================] - 0s 2ms/step - loss: 0.0720 - accuracy: 0.9742\n",
            "Epoch 57/150\n",
            "200/200 [==============================] - 0s 2ms/step - loss: 0.0722 - accuracy: 0.9758\n",
            "Epoch 58/150\n",
            "200/200 [==============================] - 0s 2ms/step - loss: 0.0723 - accuracy: 0.9745\n",
            "Epoch 59/150\n",
            "200/200 [==============================] - 0s 2ms/step - loss: 0.0718 - accuracy: 0.9756\n",
            "Epoch 60/150\n",
            "200/200 [==============================] - 0s 2ms/step - loss: 0.0716 - accuracy: 0.9752\n",
            "Epoch 61/150\n",
            "200/200 [==============================] - 0s 2ms/step - loss: 0.0726 - accuracy: 0.9748\n",
            "Epoch 62/150\n",
            "200/200 [==============================] - 0s 2ms/step - loss: 0.0715 - accuracy: 0.9744\n",
            "Epoch 63/150\n",
            "200/200 [==============================] - 0s 2ms/step - loss: 0.0723 - accuracy: 0.9739\n",
            "Epoch 64/150\n",
            "200/200 [==============================] - 0s 2ms/step - loss: 0.0714 - accuracy: 0.9750\n",
            "Epoch 65/150\n",
            "200/200 [==============================] - 0s 2ms/step - loss: 0.0714 - accuracy: 0.9745\n",
            "Epoch 66/150\n",
            "200/200 [==============================] - 0s 2ms/step - loss: 0.0714 - accuracy: 0.9748\n",
            "Epoch 67/150\n",
            "200/200 [==============================] - 1s 3ms/step - loss: 0.0713 - accuracy: 0.9739\n",
            "Epoch 68/150\n",
            "200/200 [==============================] - 0s 2ms/step - loss: 0.0709 - accuracy: 0.9756\n",
            "Epoch 69/150\n",
            "200/200 [==============================] - 1s 3ms/step - loss: 0.0715 - accuracy: 0.9752\n",
            "Epoch 70/150\n",
            "200/200 [==============================] - 0s 2ms/step - loss: 0.0709 - accuracy: 0.9744\n",
            "Epoch 71/150\n",
            "200/200 [==============================] - 0s 2ms/step - loss: 0.0714 - accuracy: 0.9741\n",
            "Epoch 72/150\n",
            "200/200 [==============================] - 0s 2ms/step - loss: 0.0711 - accuracy: 0.9741\n",
            "Epoch 73/150\n",
            "200/200 [==============================] - 0s 2ms/step - loss: 0.0710 - accuracy: 0.9747\n",
            "Epoch 74/150\n",
            "200/200 [==============================] - 0s 2ms/step - loss: 0.0714 - accuracy: 0.9739\n",
            "Epoch 75/150\n",
            "200/200 [==============================] - 0s 2ms/step - loss: 0.0709 - accuracy: 0.9736\n",
            "Epoch 76/150\n",
            "200/200 [==============================] - 0s 2ms/step - loss: 0.0708 - accuracy: 0.9745\n",
            "Epoch 77/150\n",
            "200/200 [==============================] - 0s 2ms/step - loss: 0.0702 - accuracy: 0.9753\n",
            "Epoch 78/150\n",
            "200/200 [==============================] - 0s 2ms/step - loss: 0.0697 - accuracy: 0.9750\n",
            "Epoch 79/150\n",
            "200/200 [==============================] - 0s 2ms/step - loss: 0.0704 - accuracy: 0.9745\n",
            "Epoch 80/150\n",
            "200/200 [==============================] - 0s 2ms/step - loss: 0.0706 - accuracy: 0.9744\n",
            "Epoch 81/150\n",
            "200/200 [==============================] - 0s 2ms/step - loss: 0.0700 - accuracy: 0.9750\n",
            "Epoch 82/150\n",
            "200/200 [==============================] - 0s 2ms/step - loss: 0.0695 - accuracy: 0.9750\n",
            "Epoch 83/150\n",
            "200/200 [==============================] - 0s 2ms/step - loss: 0.0697 - accuracy: 0.9753\n",
            "Epoch 84/150\n",
            "200/200 [==============================] - 0s 2ms/step - loss: 0.0699 - accuracy: 0.9752\n",
            "Epoch 85/150\n",
            "200/200 [==============================] - 0s 2ms/step - loss: 0.0700 - accuracy: 0.9758\n",
            "Epoch 86/150\n",
            "200/200 [==============================] - 0s 2ms/step - loss: 0.0702 - accuracy: 0.9742\n",
            "Epoch 87/150\n",
            "200/200 [==============================] - 0s 2ms/step - loss: 0.0693 - accuracy: 0.9759\n",
            "Epoch 88/150\n",
            "200/200 [==============================] - 0s 2ms/step - loss: 0.0696 - accuracy: 0.9753\n",
            "Epoch 89/150\n",
            "200/200 [==============================] - 0s 2ms/step - loss: 0.0697 - accuracy: 0.9758\n",
            "Epoch 90/150\n",
            "200/200 [==============================] - 0s 2ms/step - loss: 0.0692 - accuracy: 0.9750\n",
            "Epoch 91/150\n",
            "200/200 [==============================] - 0s 2ms/step - loss: 0.0694 - accuracy: 0.9752\n",
            "Epoch 92/150\n",
            "200/200 [==============================] - 0s 2ms/step - loss: 0.0694 - accuracy: 0.9769\n",
            "Epoch 93/150\n",
            "200/200 [==============================] - 0s 2ms/step - loss: 0.0692 - accuracy: 0.9756\n",
            "Epoch 94/150\n",
            "200/200 [==============================] - 0s 2ms/step - loss: 0.0692 - accuracy: 0.9750\n",
            "Epoch 95/150\n",
            "200/200 [==============================] - 0s 2ms/step - loss: 0.0690 - accuracy: 0.9752\n",
            "Epoch 96/150\n",
            "200/200 [==============================] - 0s 2ms/step - loss: 0.0688 - accuracy: 0.9758\n",
            "Epoch 97/150\n",
            "200/200 [==============================] - 0s 2ms/step - loss: 0.0685 - accuracy: 0.9753\n",
            "Epoch 98/150\n",
            "200/200 [==============================] - 0s 2ms/step - loss: 0.0688 - accuracy: 0.9756\n",
            "Epoch 99/150\n",
            "200/200 [==============================] - 0s 2ms/step - loss: 0.0685 - accuracy: 0.9758\n",
            "Epoch 100/150\n",
            "200/200 [==============================] - 0s 2ms/step - loss: 0.0681 - accuracy: 0.9769\n",
            "Epoch 101/150\n",
            "200/200 [==============================] - 0s 2ms/step - loss: 0.0687 - accuracy: 0.9756\n",
            "Epoch 102/150\n",
            "200/200 [==============================] - 0s 2ms/step - loss: 0.0689 - accuracy: 0.9762\n",
            "Epoch 103/150\n",
            "200/200 [==============================] - 1s 2ms/step - loss: 0.0684 - accuracy: 0.9752\n",
            "Epoch 104/150\n",
            "200/200 [==============================] - 0s 2ms/step - loss: 0.0677 - accuracy: 0.9756\n",
            "Epoch 105/150\n",
            "200/200 [==============================] - 0s 2ms/step - loss: 0.0677 - accuracy: 0.9761\n",
            "Epoch 106/150\n",
            "200/200 [==============================] - 0s 2ms/step - loss: 0.0683 - accuracy: 0.9756\n",
            "Epoch 107/150\n",
            "200/200 [==============================] - 0s 2ms/step - loss: 0.0683 - accuracy: 0.9767\n",
            "Epoch 108/150\n",
            "200/200 [==============================] - 0s 2ms/step - loss: 0.0676 - accuracy: 0.9772\n",
            "Epoch 109/150\n",
            "200/200 [==============================] - 0s 2ms/step - loss: 0.0677 - accuracy: 0.9761\n",
            "Epoch 110/150\n",
            "200/200 [==============================] - 0s 2ms/step - loss: 0.0671 - accuracy: 0.9755\n",
            "Epoch 111/150\n",
            "200/200 [==============================] - 0s 2ms/step - loss: 0.0680 - accuracy: 0.9773\n",
            "Epoch 112/150\n",
            "200/200 [==============================] - 0s 2ms/step - loss: 0.0669 - accuracy: 0.9762\n",
            "Epoch 113/150\n",
            "200/200 [==============================] - 0s 2ms/step - loss: 0.0675 - accuracy: 0.9755\n",
            "Epoch 114/150\n",
            "200/200 [==============================] - 0s 2ms/step - loss: 0.0672 - accuracy: 0.9766\n",
            "Epoch 115/150\n",
            "200/200 [==============================] - 0s 2ms/step - loss: 0.0671 - accuracy: 0.9764\n",
            "Epoch 116/150\n",
            "200/200 [==============================] - 0s 2ms/step - loss: 0.0673 - accuracy: 0.9769\n",
            "Epoch 117/150\n",
            "200/200 [==============================] - 0s 2ms/step - loss: 0.0668 - accuracy: 0.9756\n",
            "Epoch 118/150\n",
            "200/200 [==============================] - 0s 2ms/step - loss: 0.0672 - accuracy: 0.9764\n",
            "Epoch 119/150\n",
            "200/200 [==============================] - 0s 2ms/step - loss: 0.0666 - accuracy: 0.9761\n",
            "Epoch 120/150\n",
            "200/200 [==============================] - 0s 2ms/step - loss: 0.0669 - accuracy: 0.9761\n",
            "Epoch 121/150\n",
            "200/200 [==============================] - 0s 2ms/step - loss: 0.0662 - accuracy: 0.9761\n",
            "Epoch 122/150\n",
            "200/200 [==============================] - 0s 2ms/step - loss: 0.0664 - accuracy: 0.9773\n",
            "Epoch 123/150\n",
            "200/200 [==============================] - 0s 2ms/step - loss: 0.0663 - accuracy: 0.9761\n",
            "Epoch 124/150\n",
            "200/200 [==============================] - 0s 2ms/step - loss: 0.0661 - accuracy: 0.9762\n",
            "Epoch 125/150\n",
            "200/200 [==============================] - 0s 2ms/step - loss: 0.0665 - accuracy: 0.9759\n",
            "Epoch 126/150\n",
            "200/200 [==============================] - 0s 2ms/step - loss: 0.0659 - accuracy: 0.9777\n",
            "Epoch 127/150\n",
            "200/200 [==============================] - 0s 2ms/step - loss: 0.0660 - accuracy: 0.9769\n",
            "Epoch 128/150\n",
            "200/200 [==============================] - 0s 2ms/step - loss: 0.0657 - accuracy: 0.9767\n",
            "Epoch 129/150\n",
            "200/200 [==============================] - 0s 2ms/step - loss: 0.0654 - accuracy: 0.9777\n",
            "Epoch 130/150\n",
            "200/200 [==============================] - 0s 2ms/step - loss: 0.0656 - accuracy: 0.9769\n",
            "Epoch 131/150\n",
            "200/200 [==============================] - 0s 2ms/step - loss: 0.0653 - accuracy: 0.9778\n",
            "Epoch 132/150\n",
            "200/200 [==============================] - 0s 2ms/step - loss: 0.0650 - accuracy: 0.9778\n",
            "Epoch 133/150\n",
            "200/200 [==============================] - 0s 2ms/step - loss: 0.0653 - accuracy: 0.9766\n",
            "Epoch 134/150\n",
            "200/200 [==============================] - 0s 2ms/step - loss: 0.0654 - accuracy: 0.9781\n",
            "Epoch 135/150\n",
            "200/200 [==============================] - 0s 2ms/step - loss: 0.0648 - accuracy: 0.9773\n",
            "Epoch 136/150\n",
            "200/200 [==============================] - 0s 2ms/step - loss: 0.0650 - accuracy: 0.9778\n",
            "Epoch 137/150\n",
            "200/200 [==============================] - 0s 2ms/step - loss: 0.0655 - accuracy: 0.9773\n",
            "Epoch 138/150\n",
            "200/200 [==============================] - 0s 2ms/step - loss: 0.0644 - accuracy: 0.9777\n",
            "Epoch 139/150\n",
            "200/200 [==============================] - 0s 2ms/step - loss: 0.0644 - accuracy: 0.9780\n",
            "Epoch 140/150\n",
            "200/200 [==============================] - 0s 2ms/step - loss: 0.0642 - accuracy: 0.9780\n",
            "Epoch 141/150\n",
            "200/200 [==============================] - 0s 2ms/step - loss: 0.0649 - accuracy: 0.9770\n",
            "Epoch 142/150\n",
            "200/200 [==============================] - 0s 2ms/step - loss: 0.0645 - accuracy: 0.9773\n",
            "Epoch 143/150\n",
            "200/200 [==============================] - 0s 2ms/step - loss: 0.0635 - accuracy: 0.9770\n",
            "Epoch 144/150\n",
            "200/200 [==============================] - 0s 2ms/step - loss: 0.0644 - accuracy: 0.9789\n",
            "Epoch 145/150\n",
            "200/200 [==============================] - 0s 2ms/step - loss: 0.0629 - accuracy: 0.9777\n",
            "Epoch 146/150\n",
            "200/200 [==============================] - 0s 2ms/step - loss: 0.0641 - accuracy: 0.9778\n",
            "Epoch 147/150\n",
            "200/200 [==============================] - 0s 2ms/step - loss: 0.0640 - accuracy: 0.9773\n",
            "Epoch 148/150\n",
            "200/200 [==============================] - 0s 2ms/step - loss: 0.0633 - accuracy: 0.9778\n",
            "Epoch 149/150\n",
            "200/200 [==============================] - 0s 2ms/step - loss: 0.0636 - accuracy: 0.9783\n",
            "Epoch 150/150\n",
            "200/200 [==============================] - 0s 2ms/step - loss: 0.0636 - accuracy: 0.9786\n",
            "63/63 [==============================] - 0s 2ms/step - loss: 701.3655 - accuracy: 0.0305\n",
            "50/50 [==============================] - 0s 2ms/step - loss: 701.7395 - accuracy: 0.0288\n",
            "Accuracy: 0.030500000342726707 Accuracy Val: 0.028750000521540642\n"
          ]
        }
      ]
    },
    {
      "cell_type": "code",
      "source": [
        "df = pd.DataFrame(history.history)\n",
        "df.head()\n",
        "\n",
        "df.plot(figsize=(8,5))\n",
        "plt.grid(True)\n",
        "plt.gca().set_ylim(0, 1) # set the vertical range to [0-1]\n",
        "plt.show()"
      ],
      "metadata": {
        "id": "vy_DexmijXBJ",
        "colab": {
          "base_uri": "https://localhost:8080/",
          "height": 324
        },
        "outputId": "049b519c-ac5c-4e0a-b12c-1075583d5112"
      },
      "execution_count": 17,
      "outputs": [
        {
          "output_type": "display_data",
          "data": {
            "text/plain": [
              "<Figure size 576x360 with 1 Axes>"
            ],
            "image/png": "[encoded data removed]"
          },
          "metadata": {
            "needs_background": "light"
          }
        }
      ]
    }
  ]
}